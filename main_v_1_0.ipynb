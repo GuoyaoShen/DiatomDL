{
  "nbformat": 4,
  "nbformat_minor": 0,
  "metadata": {
    "colab": {
      "name": "main_v_1_0.ipynb",
      "provenance": [],
      "toc_visible": true,
      "authorship_tag": "ABX9TyPwLy8G1g5gboNfe5adtkq5",
      "include_colab_link": true
    },
    "kernelspec": {
      "name": "python3",
      "display_name": "Python 3"
    }
  },
  "cells": [
    {
      "cell_type": "markdown",
      "metadata": {
        "id": "view-in-github",
        "colab_type": "text"
      },
      "source": [
        "<a href=\"https://colab.research.google.com/github/GuoyaoShen/DiatomDL/blob/main/main_v_1_0.ipynb\" target=\"_parent\"><img src=\"https://colab.research.google.com/assets/colab-badge.svg\" alt=\"Open In Colab\"/></a>"
      ]
    },
    {
      "cell_type": "markdown",
      "metadata": {
        "id": "C7pRwGhaEbbk"
      },
      "source": [
        "This script works as a main script of v1.0 for testing"
      ]
    },
    {
      "cell_type": "markdown",
      "metadata": {
        "id": "gYkQxSr3k_yj"
      },
      "source": [
        "# Mount Drive"
      ]
    },
    {
      "cell_type": "code",
      "metadata": {
        "id": "cNNIW7wzEVLE",
        "outputId": "6619c9d5-38ad-4dcf-cda4-9f520187b987",
        "colab": {
          "base_uri": "https://localhost:8080/",
          "height": 35
        }
      },
      "source": [
        "from google.colab import drive\n",
        "drive.mount('/content/drive')"
      ],
      "execution_count": 1,
      "outputs": [
        {
          "output_type": "stream",
          "text": [
            "Mounted at /content/drive\n"
          ],
          "name": "stdout"
        }
      ]
    },
    {
      "cell_type": "markdown",
      "metadata": {
        "id": "Wia6saRHlIBB"
      },
      "source": [
        "# Data Loading\n",
        "* might need stacking data in future"
      ]
    },
    {
      "cell_type": "code",
      "metadata": {
        "id": "X1Pp_Tmv7gDy"
      },
      "source": [
        "import numpy as np\n",
        "import pandas as pd\n",
        "import matplotlib.pyplot as plt\n",
        "\n",
        "import torch\n",
        "import torch.nn as nn\n",
        "from torch.utils.data import Dataset, DataLoader\n",
        "from torchvision import datasets, transforms"
      ],
      "execution_count": 2,
      "outputs": []
    },
    {
      "cell_type": "code",
      "metadata": {
        "id": "nMHvsLKDlKDc"
      },
      "source": [
        "path_reflection = '/content/drive/My Drive/BU Class/Research/BioDL_Project/data/Diatom_vis_1_reflection.txt'\n",
        "path_transmission = '/content/drive/My Drive/BU Class/Research/BioDL_Project/data/Diatom_vis_1_transmission.txt'\n",
        "\n",
        "data_reflection = np.loadtxt(path_reflection, skiprows=2)\n",
        "data_transmission = np.loadtxt(path_transmission, skiprows=2)"
      ],
      "execution_count": 3,
      "outputs": []
    },
    {
      "cell_type": "code",
      "metadata": {
        "id": "P-j5_QK68HEX",
        "outputId": "c6a2ac49-b255-46c0-a2a8-759f5b815c2b",
        "colab": {
          "base_uri": "https://localhost:8080/",
          "height": 359
        }
      },
      "source": [
        "print(data_reflection.shape)\n",
        "print(data_reflection)\n",
        "print(data_reflection[:,0])\n",
        "print('===============================================')\n",
        "print(data_transmission.shape)\n",
        "print(data_transmission)\n",
        "print(data_transmission[:,0])\n",
        "\n",
        "freq = data_reflection[:,0]\n",
        "reflect = data_reflection[:,1]\n",
        "transmit = data_transmission[:,1]\n",
        "absorb = 1-reflect**2-transmit**2"
      ],
      "execution_count": 4,
      "outputs": [
        {
          "output_type": "stream",
          "text": [
            "(1001, 2)\n",
            "[[3.7500000e+02 8.2363425e-01]\n",
            " [3.7537500e+02 8.2223127e-01]\n",
            " [3.7575000e+02 8.2080025e-01]\n",
            " ...\n",
            " [7.4925000e+02 1.7821816e-01]\n",
            " [7.4962500e+02 1.7750409e-01]\n",
            " [7.5000000e+02 1.7679832e-01]]\n",
            "[375.    375.375 375.75  ... 749.25  749.625 750.   ]\n",
            "===============================================\n",
            "(1001, 2)\n",
            "[[3.7500000e+02 1.9462933e-02]\n",
            " [3.7537500e+02 1.9522859e-02]\n",
            " [3.7575000e+02 1.9582780e-02]\n",
            " ...\n",
            " [7.4925000e+02 2.2614385e-03]\n",
            " [7.4962500e+02 2.2554354e-03]\n",
            " [7.5000000e+02 2.2495034e-03]]\n",
            "[375.    375.375 375.75  ... 749.25  749.625 750.   ]\n"
          ],
          "name": "stdout"
        }
      ]
    },
    {
      "cell_type": "code",
      "metadata": {
        "id": "C3y9fDTn9Yu0",
        "outputId": "4578846a-c216-427a-b839-85bd74baeac3",
        "colab": {
          "base_uri": "https://localhost:8080/",
          "height": 783
        }
      },
      "source": [
        "plt.figure(1)\n",
        "plt.plot(data_reflection[:,0], data_reflection[:,1])\n",
        "plt.figure(2)\n",
        "plt.plot(data_transmission[:,0], data_transmission[:,1])\n",
        "plt.figure(3)\n",
        "plt.plot(freq, absorb)"
      ],
      "execution_count": 5,
      "outputs": [
        {
          "output_type": "execute_result",
          "data": {
            "text/plain": [
              "[<matplotlib.lines.Line2D at 0x7f4a3ee56ac8>]"
            ]
          },
          "metadata": {
            "tags": []
          },
          "execution_count": 5
        },
        {
          "output_type": "display_data",
          "data": {
            "image/png": "[encoded data removed]",
            "text/plain": [
              "<Figure size 432x288 with 1 Axes>"
            ]
          },
          "metadata": {
            "tags": [],
            "needs_background": "light"
          }
        },
        {
          "output_type": "display_data",
          "data": {
            "image/png": "[encoded data removed]",
            "text/plain": [
              "<Figure size 432x288 with 1 Axes>"
            ]
          },
          "metadata": {
            "tags": [],
            "needs_background": "light"
          }
        },
        {
          "output_type": "display_data",
          "data": {
            "image/png": "[encoded data removed]",
            "text/plain": [
              "<Figure size 432x288 with 1 Axes>"
            ]
          },
          "metadata": {
            "tags": [],
            "needs_background": "light"
          }
        }
      ]
    },
    {
      "cell_type": "code",
      "metadata": {
        "id": "-PJcdLLCN1ZF",
        "outputId": "cfa0a303-be93-4fbd-8066-7d14e6c95838",
        "colab": {
          "base_uri": "https://localhost:8080/",
          "height": 531
        }
      },
      "source": [
        "plt.figure(1)\n",
        "plt.scatter(data_reflection[::10,0], data_reflection[::10,1])\n",
        "plt.figure(2)\n",
        "plt.plot(data_transmission[::2,0], data_transmission[::2,1])"
      ],
      "execution_count": 6,
      "outputs": [
        {
          "output_type": "execute_result",
          "data": {
            "text/plain": [
              "[<matplotlib.lines.Line2D at 0x7f4a3e934c50>]"
            ]
          },
          "metadata": {
            "tags": []
          },
          "execution_count": 6
        },
        {
          "output_type": "display_data",
          "data": {
            "image/png": "[encoded data removed]",
            "text/plain": [
              "<Figure size 432x288 with 1 Axes>"
            ]
          },
          "metadata": {
            "tags": [],
            "needs_background": "light"
          }
        },
        {
          "output_type": "display_data",
          "data": {
            "image/png": "[encoded data removed]",
            "text/plain": [
              "<Figure size 432x288 with 1 Axes>"
            ]
          },
          "metadata": {
            "tags": [],
            "needs_background": "light"
          }
        }
      ]
    },
    {
      "cell_type": "markdown",
      "metadata": {
        "id": "xhsJ7AUTm615"
      },
      "source": [
        "# Model"
      ]
    },
    {
      "cell_type": "markdown",
      "metadata": {
        "id": "ZR8WyfkonT6U"
      },
      "source": [
        "## Model Construct"
      ]
    },
    {
      "cell_type": "code",
      "metadata": {
        "id": "qsYOX6ClAcoA"
      },
      "source": [
        "import torch\n",
        "import torch.nn as nn\n",
        "from torch.utils.data import Dataset, DataLoader\n",
        "\n",
        "class SquareLayer(nn.Module):\n",
        "    '''\n",
        "    This layer works as a function of: y = xAx+(Bx)+C\n",
        "    '''\n",
        "    def __init__(self, dim_in, dim_out):\n",
        "        super(SquareLayer, self).__init__()\n",
        "        self.linear = nn.Linear(dim_in, dim_out, bias=False)\n",
        "        self.bilinear = nn.Bilinear(dim_in, dim_in, dim_out)\n",
        "\n",
        "    def forward(self, x):\n",
        "        out = self.linear(x) + self.bilinear(x,x)\n",
        "        return  out\n",
        "\n",
        "\n",
        "class NetDense(nn.Module):\n",
        "    def __init__(self, dim_in, dim_out):\n",
        "        super(NetDense, self).__init__()\n",
        "\n",
        "        self.fc_encoder = nn.Sequential(\n",
        "        nn.Linear(dim_in, 100),\n",
        "        nn.ReLU(True),\n",
        "        nn.Linear(100, 500),\n",
        "        nn.ReLU(True),\n",
        "        nn.Linear(500, 1000),\n",
        "        nn.ReLU(True),\n",
        "        nn.Linear(1000, 1500),\n",
        "        nn.ReLU(True),\n",
        "        nn.Linear(1500, 500),\n",
        "        nn.ReLU(True),\n",
        "        nn.Linear(500, 2000),\n",
        "        nn.ReLU(True),\n",
        "        nn.Linear(2000, dim_out),\n",
        "        nn.ReLU(True),\n",
        "        # nn.Linear(1500, 500),\n",
        "        # nn.ReLU(True),\n",
        "        # nn.Linear(1500, 500),\n",
        "        )\n",
        "\n",
        "        # self.conv_decoder = nn.Sequential(\n",
        "        # pass\n",
        "        # )\n",
        "\n",
        "    \n",
        "\n",
        "    def forward(self, x):\n",
        "        out = self.fc_encoder(x)\n",
        "\n",
        "        return out"
      ],
      "execution_count": 7,
      "outputs": []
    },
    {
      "cell_type": "markdown",
      "metadata": {
        "id": "RLPJYPXTXIZe"
      },
      "source": [
        "## Train & Test Function"
      ]
    },
    {
      "cell_type": "code",
      "metadata": {
        "id": "PJco9gKgXMcZ"
      },
      "source": [
        "def train_model(train_dataloader, optimizer, loss, net, device, NUM_EPOCH=5, scheduler=None):\n",
        "    net.train()\n",
        "\n",
        "    if dcheduler != None:\n",
        "        print('*** WILL USE SCHEDULER ***')\n",
        "\n",
        "    for i in range(NUM_EPOCH):\n",
        "        running_loss = 0.0\n",
        "        running_acc = 0.0\n",
        "        for idx, data in enumerate(train_dataloader):\n",
        "            X, y = data\n",
        "            pass"
      ],
      "execution_count": 8,
      "outputs": []
    },
    {
      "cell_type": "markdown",
      "metadata": {
        "id": "sfswiUuVZzg_"
      },
      "source": [
        "# Train & Test"
      ]
    },
    {
      "cell_type": "code",
      "metadata": {
        "id": "o_m5bdBAYXn0"
      },
      "source": [
        "import torch\n",
        "import torch.nn as nn\n",
        "from torch.utils.data import Dataset, DataLoader\n",
        "from torchvision import datasets, transforms\n",
        "import matplotlib.pyplot as plt\n",
        "\n",
        "device = torch.device(\"cuda:0\" if torch.cuda.is_available() else \"cpu\")\n",
        "\n",
        "torch.manual_seed(123)\n",
        "\n",
        "optimizer = torch.optim.Adam(vae.parameters(), lr=learning_rate)\n",
        "criteon = nn.MSELoss()\n",
        "scheduler = None\n",
        "\n",
        "\n",
        "pass"
      ],
      "execution_count": null,
      "outputs": []
    }
  ]
}