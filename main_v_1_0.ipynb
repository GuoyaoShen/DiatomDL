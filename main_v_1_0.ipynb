{
  "nbformat": 4,
  "nbformat_minor": 0,
  "metadata": {
    "colab": {
      "name": "main_v_1_0.ipynb",
      "provenance": [],
      "toc_visible": true,
      "authorship_tag": "ABX9TyNHS4JUPPTe537XMPuiNVRD",
      "include_colab_link": true
    },
    "kernelspec": {
      "name": "python3",
      "display_name": "Python 3"
    }
  },
  "cells": [
    {
      "cell_type": "markdown",
      "metadata": {
        "id": "view-in-github",
        "colab_type": "text"
      },
      "source": [
        "<a href=\"https://colab.research.google.com/github/GuoyaoShen/DiatomDL/blob/main/main_v_1_0.ipynb\" target=\"_parent\"><img src=\"https://colab.research.google.com/assets/colab-badge.svg\" alt=\"Open In Colab\"/></a>"
      ]
    },
    {
      "cell_type": "markdown",
      "metadata": {
        "id": "C7pRwGhaEbbk"
      },
      "source": [
        "This script works as a main script of v1.0 for testing"
      ]
    },
    {
      "cell_type": "markdown",
      "metadata": {
        "id": "gYkQxSr3k_yj"
      },
      "source": [
        "# Mount Drive"
      ]
    },
    {
      "cell_type": "code",
      "metadata": {
        "id": "cNNIW7wzEVLE",
        "outputId": "65cacf32-d3a8-42ad-cdb1-ea93974263be",
        "colab": {
          "base_uri": "https://localhost:8080/",
          "height": 35
        }
      },
      "source": [
        "from google.colab import drive\n",
        "drive.mount('/content/drive')"
      ],
      "execution_count": 332,
      "outputs": [
        {
          "output_type": "stream",
          "text": [
            "Drive already mounted at /content/drive; to attempt to forcibly remount, call drive.mount(\"/content/drive\", force_remount=True).\n"
          ],
          "name": "stdout"
        }
      ]
    },
    {
      "cell_type": "markdown",
      "metadata": {
        "id": "Wia6saRHlIBB"
      },
      "source": [
        "# Data Loading\n",
        "* might need stacking data in future"
      ]
    },
    {
      "cell_type": "code",
      "metadata": {
        "id": "X1Pp_Tmv7gDy"
      },
      "source": [
        "import numpy as np\n",
        "import pandas as pd\n",
        "import matplotlib.pyplot as plt\n",
        "\n",
        "import re \n",
        "\n",
        "import torch\n",
        "import torch.nn as nn\n",
        "from torch.utils.data import Dataset, DataLoader, TensorDataset\n",
        "from torchvision import datasets, transforms"
      ],
      "execution_count": 333,
      "outputs": []
    },
    {
      "cell_type": "code",
      "metadata": {
        "id": "nMHvsLKDlKDc"
      },
      "source": [
        "# path_reflection = '/content/drive/My Drive/BU Class/Research/BioDL_Project/data/Diatom_vis_1_reflection.txt'\n",
        "# path_transmission = '/content/drive/My Drive/BU Class/Research/BioDL_Project/data/Diatom_vis_1_transmission.txt'\n",
        "\n",
        "# data_reflection = np.loadtxt(path_reflection, skiprows=2)\n",
        "# data_transmission = np.loadtxt(path_transmission, skiprows=2)"
      ],
      "execution_count": 334,
      "outputs": []
    },
    {
      "cell_type": "code",
      "metadata": {
        "id": "P-j5_QK68HEX"
      },
      "source": [
        "# print(data_reflection.shape)\n",
        "# print(data_reflection)\n",
        "# print(data_reflection[:,0])\n",
        "# print('===============================================')\n",
        "# print(data_transmission.shape)\n",
        "# print(data_transmission)\n",
        "# print(data_transmission[:,0])\n",
        "\n",
        "# freq = data_reflection[:,0]\n",
        "# reflect = data_reflection[:,1]\n",
        "# transmit = data_transmission[:,1]\n",
        "# absorb = 1-reflect**2-transmit**2"
      ],
      "execution_count": 335,
      "outputs": []
    },
    {
      "cell_type": "code",
      "metadata": {
        "id": "C3y9fDTn9Yu0"
      },
      "source": [
        "# plt.figure(1)\n",
        "# plt.plot(data_reflection[:,0], data_reflection[:,1])\n",
        "# plt.figure(2)\n",
        "# plt.plot(data_transmission[:,0], data_transmission[:,1])\n",
        "# plt.figure(3)\n",
        "# plt.plot(freq, absorb)"
      ],
      "execution_count": 336,
      "outputs": []
    },
    {
      "cell_type": "code",
      "metadata": {
        "id": "-PJcdLLCN1ZF"
      },
      "source": [
        "# plt.figure(1)\n",
        "# plt.scatter(data_reflection[::10,0], data_reflection[::10,1])\n",
        "# plt.figure(2)\n",
        "# plt.plot(data_transmission[::2,0], data_transmission[::2,1])"
      ],
      "execution_count": 337,
      "outputs": []
    },
    {
      "cell_type": "code",
      "metadata": {
        "id": "OLSJs60752vq"
      },
      "source": [
        "path_reflection = '/content/drive/My Drive/BU Class/Research/BioDL_Project/data/test1.txt'\n",
        "data_reflection = np.loadtxt(path_reflection)"
      ],
      "execution_count": 338,
      "outputs": []
    },
    {
      "cell_type": "code",
      "metadata": {
        "id": "nwJvAX_857k9"
      },
      "source": [
        "# CORE PART OF READING DATA\n",
        "\n",
        "num_combination = 0\n",
        "with open(path_reflection) as f:\n",
        "    lines=f.readlines()\n",
        "\n",
        "    spectra_ref_all = np.array([]).reshape(0,1001,2)  # shape for each spectra: [1001,2]\n",
        "    spectra_ref = np.array([]).reshape(0,2)\n",
        "    param_all = np.array([]).reshape(0,11)\n",
        "\n",
        "    for i, line in enumerate(lines):\n",
        "        if (i%1004!=0) & (i%1004!=1) & (i%1004!=2): # read spectra data\n",
        "            line_array = np.fromstring(line, dtype=float, sep=' ')\n",
        "            # print(i)\n",
        "            # print(spectra_ref.shape)\n",
        "            # print(line_array)\n",
        "            # print(line_array.shape)\n",
        "            # print('=====')\n",
        "            spectra_ref = np.vstack((spectra_ref, line_array))\n",
        "\n",
        "        if i%1004==0:  # every (3+1001) lines, read param title\n",
        "            # print(num_combination, i, line.strip())\n",
        "            param = [float(s) for s in re.findall(r\"[-+]?\\d*\\.\\d+|\\d+\", line)]  # extract the float param\n",
        "            # print(num_combination, param)\n",
        "            # print('------------')\n",
        "            param_all = np.vstack((param_all, param))\n",
        "            num_combination += 1\n",
        "\n",
        "        if i%1004==1003:  # every end of the combination, concat\n",
        "            # print(num_combination)\n",
        "            spectra_ref_all = np.concatenate((spectra_ref_all, spectra_ref[np.newaxis, ...]), axis=0)\n",
        "            spectra_ref = np.array([]).reshape(0,2)"
      ],
      "execution_count": 339,
      "outputs": []
    },
    {
      "cell_type": "code",
      "metadata": {
        "id": "aa8QadrX6C_9",
        "outputId": "a88f035e-6375-4730-aa6a-43792dd4ea57",
        "colab": {
          "base_uri": "https://localhost:8080/",
          "height": 53
        }
      },
      "source": [
        "print(spectra_ref_all.shape)\n",
        "print(param_all.shape)"
      ],
      "execution_count": 340,
      "outputs": [
        {
          "output_type": "stream",
          "text": [
            "(25, 1001, 2)\n",
            "(25, 11)\n"
          ],
          "name": "stdout"
        }
      ]
    },
    {
      "cell_type": "code",
      "metadata": {
        "id": "IskbvUqp6Y_U",
        "outputId": "1d593205-212b-42e8-c201-a0be0939d4d6",
        "colab": {
          "base_uri": "https://localhost:8080/",
          "height": 53
        }
      },
      "source": [
        "spectra_ref_all = spectra_ref_all[...,1]\n",
        "\n",
        "param_all = param_all[...,1]\n",
        "param_all = param_all[...,np.newaxis]\n",
        "\n",
        "print(spectra_ref_all.shape)\n",
        "print(param_all.shape)"
      ],
      "execution_count": 341,
      "outputs": [
        {
          "output_type": "stream",
          "text": [
            "(25, 1001)\n",
            "(25, 1)\n"
          ],
          "name": "stdout"
        }
      ]
    },
    {
      "cell_type": "markdown",
      "metadata": {
        "id": "rNoKVjbp8BYb"
      },
      "source": [
        "## Create Dataset"
      ]
    },
    {
      "cell_type": "code",
      "metadata": {
        "id": "_1DTpK638ENG",
        "outputId": "5bfd6759-dd82-4c32-893b-d93d1c7b5813",
        "colab": {
          "base_uri": "https://localhost:8080/",
          "height": 53
        }
      },
      "source": [
        "tensor_x = torch.Tensor(param_all) # transform to torch tensor\n",
        "tensor_y = torch.Tensor(spectra_ref_all)\n",
        "\n",
        "print(tensor_x.shape)\n",
        "print(tensor_y.shape)\n",
        "\n",
        "dataset_ref = TensorDataset(tensor_x,tensor_y)\n",
        "dataloader_ref = DataLoader(dataset_ref)"
      ],
      "execution_count": 342,
      "outputs": [
        {
          "output_type": "stream",
          "text": [
            "torch.Size([25, 1])\n",
            "torch.Size([25, 1001])\n"
          ],
          "name": "stdout"
        }
      ]
    },
    {
      "cell_type": "markdown",
      "metadata": {
        "id": "xhsJ7AUTm615"
      },
      "source": [
        "# Model"
      ]
    },
    {
      "cell_type": "markdown",
      "metadata": {
        "id": "ZR8WyfkonT6U"
      },
      "source": [
        "## Model Construct"
      ]
    },
    {
      "cell_type": "code",
      "metadata": {
        "id": "qsYOX6ClAcoA"
      },
      "source": [
        "import torch\n",
        "import torch.nn as nn\n",
        "from torch.utils.data import Dataset, DataLoader\n",
        "\n",
        "class SquareLayer(nn.Module):\n",
        "    '''\n",
        "    This layer works as a function of: y = xAx+(Bx)+C\n",
        "    '''\n",
        "    def __init__(self, dim_in, dim_out):\n",
        "        super(SquareLayer, self).__init__()\n",
        "        self.linear = nn.Linear(dim_in, dim_out, bias=False)\n",
        "        self.bilinear = nn.Bilinear(dim_in, dim_in, dim_out)\n",
        "\n",
        "    def forward(self, x):\n",
        "        out = self.linear(x) + self.bilinear(x,x)\n",
        "        return  out\n",
        "\n",
        "\n",
        "class NetDense(nn.Module):\n",
        "    def __init__(self, dim_in, dim_out):\n",
        "        super(NetDense, self).__init__()\n",
        "        self.ksz1d = 50\n",
        "\n",
        "        self.fc_encoder = nn.Sequential(\n",
        "        # SquareLayer(dim_in, 100),\n",
        "        nn.Linear(dim_in, 100),\n",
        "        nn.ReLU(True),\n",
        "        nn.Linear(100, 500),\n",
        "        nn.ReLU(True),\n",
        "        nn.Linear(500, 1500),\n",
        "        nn.ReLU(True),\n",
        "        nn.Linear(1500, 3000),\n",
        "        nn.ReLU(True),\n",
        "        nn.Linear(3000, 2500),\n",
        "        nn.ReLU(True),\n",
        "        nn.Linear(2500, dim_out),\n",
        "        nn.ReLU(True),\n",
        "        # nn.Linear(2500, dim_out+self.ksz1d-1),\n",
        "        # nn.ReLU(True),\n",
        "        # nn.Linear(2000, dim_out+self.ksz1d+1),\n",
        "        # nn.ReLU(True),\n",
        "        # nn.Linear(1500, 500),\n",
        "        # nn.ReLU(True),\n",
        "        # nn.Linear(1500, 500),\n",
        "        )\n",
        "\n",
        "        self.conv = nn.Conv1d(1, 1, kernel_size=self.ksz1d, stride=1)\n",
        "\n",
        "        # self.conv_decoder = nn.Sequential(\n",
        "        # pass\n",
        "        # )\n",
        "\n",
        "    \n",
        "\n",
        "    def forward(self, x):\n",
        "        out = self.fc_encoder(x)\n",
        "        # # print(out.shape[0])\n",
        "        # out = out.view(out.shape[0], 1, out.shape[1])\n",
        "        # # print(out.shape)\n",
        "        # out = self.conv(out)\n",
        "        # # print(out.shape)\n",
        "        # out = out.view(out.shape[0], out.shape[2])\n",
        "\n",
        "        return out"
      ],
      "execution_count": 343,
      "outputs": []
    },
    {
      "cell_type": "code",
      "metadata": {
        "id": "tTsUIJmEWOvl"
      },
      "source": [
        "# datain = torch.randn(7, 1, 5)\n",
        "# conv = nn.Conv1d(1, 1, kernel_size=3, stride=1)\n",
        "# dataout = conv(datain)\n",
        "# print(dataout.shape)"
      ],
      "execution_count": 344,
      "outputs": []
    },
    {
      "cell_type": "markdown",
      "metadata": {
        "id": "RLPJYPXTXIZe"
      },
      "source": [
        "## Train & Test Function"
      ]
    },
    {
      "cell_type": "code",
      "metadata": {
        "id": "PJco9gKgXMcZ"
      },
      "source": [
        "def train_model(train_dataloader, optimizer, loss, net, device, NUM_EPOCH=5, scheduler=None):\n",
        "    net.train()\n",
        "\n",
        "    if scheduler != None:\n",
        "        print('*** WILL USE SCHEDULER ***')\n",
        "\n",
        "    for i in range(NUM_EPOCH):\n",
        "        running_loss = 0.0\n",
        "        # running_acc = 0.0\n",
        "        for idx, data in enumerate(train_dataloader):\n",
        "            X, y = data\n",
        "            X = X.to(device)\n",
        "            y = y.to(device)\n",
        "\n",
        "            # if idx==0:\n",
        "            #     print(X.shape, y.shape)\n",
        "\n",
        "            y_pred = net(X)\n",
        "\n",
        "            optimizer.zero_grad()\n",
        "            loss_train = loss(y_pred, y)\n",
        "            loss_train.backward()\n",
        "            optimizer.step()\n",
        "            running_loss += loss_train.item()\n",
        "\n",
        "            if (idx+1)%5==0:\n",
        "                print('EPOCH '+str(i+1)+'/'+str(NUM_EPOCH)+' || '+'STEP '+str(idx+1)+'/'+str(len(train_dataloader))+' || '+'LOSS: '+str(running_loss/(idx+1)))\n",
        "                print('===================================================')\n",
        "        print('----------------------------------------------------------------------')\n",
        "        print('*** EPOCH '+str(i+1)+' || AVG LOSS '+str(running_loss/(idx+1)))\n",
        "        print('----------------------------------------------------------------------')"
      ],
      "execution_count": 345,
      "outputs": []
    },
    {
      "cell_type": "markdown",
      "metadata": {
        "id": "sfswiUuVZzg_"
      },
      "source": [
        "# Train & Test"
      ]
    },
    {
      "cell_type": "code",
      "metadata": {
        "id": "o_m5bdBAYXn0",
        "outputId": "64f13332-0f47-4ca4-b42e-c60393d0b9b1",
        "colab": {
          "base_uri": "https://localhost:8080/",
          "height": 1000
        }
      },
      "source": [
        "import torch\n",
        "import torch.nn as nn\n",
        "from torch.utils.data import Dataset, DataLoader\n",
        "from torchvision import datasets, transforms\n",
        "import matplotlib.pyplot as plt\n",
        "\n",
        "device = torch.device(\"cuda:0\" if torch.cuda.is_available() else \"cpu\")\n",
        "learning_rate = 1e-3\n",
        "\n",
        "torch.manual_seed(123)\n",
        "\n",
        "net_dense = NetDense(1,1001)\n",
        "\n",
        "optimizer = torch.optim.Adam(net_dense.parameters(), lr=learning_rate)\n",
        "criteon = nn.MSELoss()\n",
        "scheduler = None\n",
        "\n",
        "\n",
        "train_model(dataloader_ref, optimizer, criteon, net_dense, device, NUM_EPOCH=20, scheduler=scheduler)"
      ],
      "execution_count": 346,
      "outputs": [
        {
          "output_type": "stream",
          "text": [
            "EPOCH 1/20 || STEP 5/25 || LOSS: 0.25069540813565255\n",
            "===================================================\n",
            "EPOCH 1/20 || STEP 10/25 || LOSS: 0.18231487832963467\n",
            "===================================================\n",
            "EPOCH 1/20 || STEP 15/25 || LOSS: 0.1733138494193554\n",
            "===================================================\n",
            "EPOCH 1/20 || STEP 20/25 || LOSS: 0.16840528827160597\n",
            "===================================================\n",
            "EPOCH 1/20 || STEP 25/25 || LOSS: 0.16935066029429435\n",
            "===================================================\n",
            "----------------------------------------------------------------------\n",
            "*** EPOCH 1 || AVG LOSS 0.16935066029429435\n",
            "----------------------------------------------------------------------\n",
            "EPOCH 2/20 || STEP 5/25 || LOSS: 0.13604527711868286\n",
            "===================================================\n",
            "EPOCH 2/20 || STEP 10/25 || LOSS: 0.10499187186360359\n",
            "===================================================\n",
            "EPOCH 2/20 || STEP 15/25 || LOSS: 0.11824319114287694\n",
            "===================================================\n",
            "EPOCH 2/20 || STEP 20/25 || LOSS: 0.122177311219275\n",
            "===================================================\n",
            "EPOCH 2/20 || STEP 25/25 || LOSS: 0.12491577059030533\n",
            "===================================================\n",
            "----------------------------------------------------------------------\n",
            "*** EPOCH 2 || AVG LOSS 0.12491577059030533\n",
            "----------------------------------------------------------------------\n",
            "EPOCH 3/20 || STEP 5/25 || LOSS: 0.14936750382184982\n",
            "===================================================\n",
            "EPOCH 3/20 || STEP 10/25 || LOSS: 0.12619037739932537\n",
            "===================================================\n",
            "EPOCH 3/20 || STEP 15/25 || LOSS: 0.14204054499665897\n",
            "===================================================\n",
            "EPOCH 3/20 || STEP 20/25 || LOSS: 0.12700467370450497\n",
            "===================================================\n",
            "EPOCH 3/20 || STEP 25/25 || LOSS: 0.12380785077810287\n",
            "===================================================\n",
            "----------------------------------------------------------------------\n",
            "*** EPOCH 3 || AVG LOSS 0.12380785077810287\n",
            "----------------------------------------------------------------------\n",
            "EPOCH 4/20 || STEP 5/25 || LOSS: 0.10612636432051659\n",
            "===================================================\n",
            "EPOCH 4/20 || STEP 10/25 || LOSS: 0.08954833932220936\n",
            "===================================================\n",
            "EPOCH 4/20 || STEP 15/25 || LOSS: 0.10214865232507388\n",
            "===================================================\n",
            "EPOCH 4/20 || STEP 20/25 || LOSS: 0.10336538683623075\n",
            "===================================================\n",
            "EPOCH 4/20 || STEP 25/25 || LOSS: 0.10132813796401025\n",
            "===================================================\n",
            "----------------------------------------------------------------------\n",
            "*** EPOCH 4 || AVG LOSS 0.10132813796401025\n",
            "----------------------------------------------------------------------\n",
            "EPOCH 5/20 || STEP 5/25 || LOSS: 0.11130559295415879\n",
            "===================================================\n",
            "EPOCH 5/20 || STEP 10/25 || LOSS: 0.09700865782797337\n",
            "===================================================\n",
            "EPOCH 5/20 || STEP 15/25 || LOSS: 0.10680407856901487\n",
            "===================================================\n",
            "EPOCH 5/20 || STEP 20/25 || LOSS: 0.10303720459342003\n",
            "===================================================\n",
            "EPOCH 5/20 || STEP 25/25 || LOSS: 0.10118243426084518\n",
            "===================================================\n",
            "----------------------------------------------------------------------\n",
            "*** EPOCH 5 || AVG LOSS 0.10118243426084518\n",
            "----------------------------------------------------------------------\n",
            "EPOCH 6/20 || STEP 5/25 || LOSS: 0.10424210280179977\n",
            "===================================================\n",
            "EPOCH 6/20 || STEP 10/25 || LOSS: 0.09191072396934033\n",
            "===================================================\n",
            "EPOCH 6/20 || STEP 15/25 || LOSS: 0.10286472663283348\n",
            "===================================================\n",
            "EPOCH 6/20 || STEP 20/25 || LOSS: 0.1001907929778099\n",
            "===================================================\n",
            "EPOCH 6/20 || STEP 25/25 || LOSS: 0.09892011970281601\n",
            "===================================================\n",
            "----------------------------------------------------------------------\n",
            "*** EPOCH 6 || AVG LOSS 0.09892011970281601\n",
            "----------------------------------------------------------------------\n",
            "EPOCH 7/20 || STEP 5/25 || LOSS: 0.10447841137647629\n",
            "===================================================\n",
            "EPOCH 7/20 || STEP 10/25 || LOSS: 0.09129973761737346\n",
            "===================================================\n",
            "EPOCH 7/20 || STEP 15/25 || LOSS: 0.10177396486202876\n",
            "===================================================\n",
            "EPOCH 7/20 || STEP 20/25 || LOSS: 0.09950048681348563\n",
            "===================================================\n",
            "EPOCH 7/20 || STEP 25/25 || LOSS: 0.09777994692325592\n",
            "===================================================\n",
            "----------------------------------------------------------------------\n",
            "*** EPOCH 7 || AVG LOSS 0.09777994692325592\n",
            "----------------------------------------------------------------------\n",
            "EPOCH 8/20 || STEP 5/25 || LOSS: 0.10571670830249787\n",
            "===================================================\n",
            "EPOCH 8/20 || STEP 10/25 || LOSS: 0.0928036954253912\n",
            "===================================================\n",
            "EPOCH 8/20 || STEP 15/25 || LOSS: 0.10160637969772021\n",
            "===================================================\n",
            "EPOCH 8/20 || STEP 20/25 || LOSS: 0.0977873070165515\n",
            "===================================================\n",
            "EPOCH 8/20 || STEP 25/25 || LOSS: 0.09659419819712639\n",
            "===================================================\n",
            "----------------------------------------------------------------------\n",
            "*** EPOCH 8 || AVG LOSS 0.09659419819712639\n",
            "----------------------------------------------------------------------\n",
            "EPOCH 9/20 || STEP 5/25 || LOSS: 0.10285124331712722\n",
            "===================================================\n",
            "EPOCH 9/20 || STEP 10/25 || LOSS: 0.09049013033509254\n",
            "===================================================\n",
            "EPOCH 9/20 || STEP 15/25 || LOSS: 0.09964548225204149\n",
            "===================================================\n",
            "EPOCH 9/20 || STEP 20/25 || LOSS: 0.09649801664054394\n",
            "===================================================\n",
            "EPOCH 9/20 || STEP 25/25 || LOSS: 0.09538644552230835\n",
            "===================================================\n",
            "----------------------------------------------------------------------\n",
            "*** EPOCH 9 || AVG LOSS 0.09538644552230835\n",
            "----------------------------------------------------------------------\n",
            "EPOCH 10/20 || STEP 5/25 || LOSS: 0.10389676690101624\n",
            "===================================================\n",
            "EPOCH 10/20 || STEP 10/25 || LOSS: 0.09108932837843894\n",
            "===================================================\n",
            "EPOCH 10/20 || STEP 15/25 || LOSS: 0.10062169656157494\n",
            "===================================================\n",
            "EPOCH 10/20 || STEP 20/25 || LOSS: 0.09819336961954832\n",
            "===================================================\n",
            "EPOCH 10/20 || STEP 25/25 || LOSS: 0.09676224753260612\n",
            "===================================================\n",
            "----------------------------------------------------------------------\n",
            "*** EPOCH 10 || AVG LOSS 0.09676224753260612\n",
            "----------------------------------------------------------------------\n",
            "EPOCH 11/20 || STEP 5/25 || LOSS: 0.10552261024713516\n",
            "===================================================\n",
            "EPOCH 11/20 || STEP 10/25 || LOSS: 0.09218931421637536\n",
            "===================================================\n",
            "EPOCH 11/20 || STEP 15/25 || LOSS: 0.10142701243360837\n",
            "===================================================\n",
            "EPOCH 11/20 || STEP 20/25 || LOSS: 0.09844869002699852\n",
            "===================================================\n",
            "EPOCH 11/20 || STEP 25/25 || LOSS: 0.0968149146437645\n",
            "===================================================\n",
            "----------------------------------------------------------------------\n",
            "*** EPOCH 11 || AVG LOSS 0.0968149146437645\n",
            "----------------------------------------------------------------------\n",
            "EPOCH 12/20 || STEP 5/25 || LOSS: 0.1049746811389923\n",
            "===================================================\n",
            "EPOCH 12/20 || STEP 10/25 || LOSS: 0.09188093356788159\n",
            "===================================================\n",
            "EPOCH 12/20 || STEP 15/25 || LOSS: 0.10077368269364038\n",
            "===================================================\n",
            "EPOCH 12/20 || STEP 20/25 || LOSS: 0.09806839786469937\n",
            "===================================================\n",
            "EPOCH 12/20 || STEP 25/25 || LOSS: 0.09635045930743218\n",
            "===================================================\n",
            "----------------------------------------------------------------------\n",
            "*** EPOCH 12 || AVG LOSS 0.09635045930743218\n",
            "----------------------------------------------------------------------\n",
            "EPOCH 13/20 || STEP 5/25 || LOSS: 0.10543199479579926\n",
            "===================================================\n",
            "EPOCH 13/20 || STEP 10/25 || LOSS: 0.09217339232563973\n",
            "===================================================\n",
            "EPOCH 13/20 || STEP 15/25 || LOSS: 0.0996845486263434\n",
            "===================================================\n",
            "EPOCH 13/20 || STEP 20/25 || LOSS: 0.09677107091993094\n",
            "===================================================\n",
            "EPOCH 13/20 || STEP 25/25 || LOSS: 0.09524478048086166\n",
            "===================================================\n",
            "----------------------------------------------------------------------\n",
            "*** EPOCH 13 || AVG LOSS 0.09524478048086166\n",
            "----------------------------------------------------------------------\n",
            "EPOCH 14/20 || STEP 5/25 || LOSS: 0.10489658862352372\n",
            "===================================================\n",
            "EPOCH 14/20 || STEP 10/25 || LOSS: 0.09166933782398701\n",
            "===================================================\n",
            "EPOCH 14/20 || STEP 15/25 || LOSS: 0.09937058016657829\n",
            "===================================================\n",
            "EPOCH 14/20 || STEP 20/25 || LOSS: 0.09668544735759496\n",
            "===================================================\n",
            "EPOCH 14/20 || STEP 25/25 || LOSS: 0.09509705886244774\n",
            "===================================================\n",
            "----------------------------------------------------------------------\n",
            "*** EPOCH 14 || AVG LOSS 0.09509705886244774\n",
            "----------------------------------------------------------------------\n",
            "EPOCH 15/20 || STEP 5/25 || LOSS: 0.10514366030693054\n",
            "===================================================\n",
            "EPOCH 15/20 || STEP 10/25 || LOSS: 0.09178712107241153\n",
            "===================================================\n",
            "EPOCH 15/20 || STEP 15/25 || LOSS: 0.09886704658468565\n",
            "===================================================\n",
            "EPOCH 15/20 || STEP 20/25 || LOSS: 0.09584511145949363\n",
            "===================================================\n",
            "EPOCH 15/20 || STEP 25/25 || LOSS: 0.09441062852740288\n",
            "===================================================\n",
            "----------------------------------------------------------------------\n",
            "*** EPOCH 15 || AVG LOSS 0.09441062852740288\n",
            "----------------------------------------------------------------------\n",
            "EPOCH 16/20 || STEP 5/25 || LOSS: 0.10543570220470429\n",
            "===================================================\n",
            "EPOCH 16/20 || STEP 10/25 || LOSS: 0.09180876314640045\n",
            "===================================================\n",
            "EPOCH 16/20 || STEP 15/25 || LOSS: 0.09992893040180206\n",
            "===================================================\n",
            "EPOCH 16/20 || STEP 20/25 || LOSS: 0.09768971651792527\n",
            "===================================================\n",
            "EPOCH 16/20 || STEP 25/25 || LOSS: 0.09644222512841225\n",
            "===================================================\n",
            "----------------------------------------------------------------------\n",
            "*** EPOCH 16 || AVG LOSS 0.09644222512841225\n",
            "----------------------------------------------------------------------\n",
            "EPOCH 17/20 || STEP 5/25 || LOSS: 0.10428576618432998\n",
            "===================================================\n",
            "EPOCH 17/20 || STEP 10/25 || LOSS: 0.09090402461588383\n",
            "===================================================\n",
            "EPOCH 17/20 || STEP 15/25 || LOSS: 0.09911180809140205\n",
            "===================================================\n",
            "EPOCH 17/20 || STEP 20/25 || LOSS: 0.09715442471206188\n",
            "===================================================\n",
            "EPOCH 17/20 || STEP 25/25 || LOSS: 0.09557491898536682\n",
            "===================================================\n",
            "----------------------------------------------------------------------\n",
            "*** EPOCH 17 || AVG LOSS 0.09557491898536682\n",
            "----------------------------------------------------------------------\n",
            "EPOCH 18/20 || STEP 5/25 || LOSS: 0.10590890198945999\n",
            "===================================================\n",
            "EPOCH 18/20 || STEP 10/25 || LOSS: 0.0921933550387621\n",
            "===================================================\n",
            "EPOCH 18/20 || STEP 15/25 || LOSS: 0.09949751868844033\n",
            "===================================================\n",
            "EPOCH 18/20 || STEP 20/25 || LOSS: 0.09586650244891644\n",
            "===================================================\n",
            "EPOCH 18/20 || STEP 25/25 || LOSS: 0.09439778879284859\n",
            "===================================================\n",
            "----------------------------------------------------------------------\n",
            "*** EPOCH 18 || AVG LOSS 0.09439778879284859\n",
            "----------------------------------------------------------------------\n",
            "EPOCH 19/20 || STEP 5/25 || LOSS: 0.10346800833940506\n",
            "===================================================\n",
            "EPOCH 19/20 || STEP 10/25 || LOSS: 0.09046336747705937\n",
            "===================================================\n",
            "EPOCH 19/20 || STEP 15/25 || LOSS: 0.09767777149875959\n",
            "===================================================\n",
            "EPOCH 19/20 || STEP 20/25 || LOSS: 0.09464434664696456\n",
            "===================================================\n",
            "EPOCH 19/20 || STEP 25/25 || LOSS: 0.09335144639015197\n",
            "===================================================\n",
            "----------------------------------------------------------------------\n",
            "*** EPOCH 19 || AVG LOSS 0.09335144639015197\n",
            "----------------------------------------------------------------------\n",
            "EPOCH 20/20 || STEP 5/25 || LOSS: 0.10364078581333161\n",
            "===================================================\n",
            "EPOCH 20/20 || STEP 10/25 || LOSS: 0.09047849401831627\n",
            "===================================================\n",
            "EPOCH 20/20 || STEP 15/25 || LOSS: 0.09754194617271424\n",
            "===================================================\n",
            "EPOCH 20/20 || STEP 20/25 || LOSS: 0.09428915809839963\n",
            "===================================================\n",
            "EPOCH 20/20 || STEP 25/25 || LOSS: 0.09301806449890136\n",
            "===================================================\n",
            "----------------------------------------------------------------------\n",
            "*** EPOCH 20 || AVG LOSS 0.09301806449890136\n",
            "----------------------------------------------------------------------\n"
          ],
          "name": "stdout"
        }
      ]
    },
    {
      "cell_type": "code",
      "metadata": {
        "id": "Me5E_RTp9OzH",
        "outputId": "dd1edf53-4e6f-471d-fb85-438ea5c0ba48",
        "colab": {
          "base_uri": "https://localhost:8080/",
          "height": 428
        }
      },
      "source": [
        "idx_test = 12\n",
        "print(tensor_x.shape)\n",
        "print(tensor_y.shape)\n",
        "\n",
        "# X_test = tensor_x[idx_test,:].unsqueeze(0)\n",
        "# y_test = tensor_y[idx_test,:].unsqueeze(0)\n",
        "\n",
        "print(X_test.shape)\n",
        "print(y_test.shape)\n",
        "\n",
        "X_test = X_test.to(device)\n",
        "y_test_pred = net_dense(X_test)\n",
        "# print(y_test.shape)\n",
        "\n",
        "y_test_np = y_test.cpu().detach().numpy()\n",
        "y_test_pred_np = y_test_pred.cpu().detach().numpy()\n",
        "print(y_test_pred_np)\n",
        "\n",
        "# plt.figure(1)\n",
        "# plt.plot(np.arange(1001), y_test_np)\n",
        "# plt.figure(2)\n",
        "# plt.plot(np.arange(1001), y_test_pred_np)\n",
        "\n",
        "plt.figure(3, figsize=(10,5))\n",
        "plt.scatter(np.arange(1001), y_test_np, c='r')\n",
        "plt.scatter(np.arange(1001), y_test_pred_np, c='b')"
      ],
      "execution_count": 347,
      "outputs": [
        {
          "output_type": "stream",
          "text": [
            "torch.Size([25, 1])\n",
            "torch.Size([25, 1001])\n",
            "torch.Size([1, 1])\n",
            "torch.Size([1, 1001])\n",
            "[[0.7420308  0.7422049  0.74063647 ... 0.3855536  0.         0.38675523]]\n"
          ],
          "name": "stdout"
        },
        {
          "output_type": "execute_result",
          "data": {
            "text/plain": [
              "<matplotlib.collections.PathCollection at 0x7ff342bfde80>"
            ]
          },
          "metadata": {
            "tags": []
          },
          "execution_count": 347
        },
        {
          "output_type": "display_data",
          "data": {
            "image/png": "[encoded data removed]",
            "text/plain": [
              "<Figure size 720x360 with 1 Axes>"
            ]
          },
          "metadata": {
            "tags": [],
            "needs_background": "light"
          }
        }
      ]
    },
    {
      "cell_type": "code",
      "metadata": {
        "id": "gawhH30fCkrV",
        "outputId": "d710f6d0-6156-4e2e-eacc-4cd7d7c1ed56",
        "colab": {
          "base_uri": "https://localhost:8080/",
          "height": 374
        }
      },
      "source": [
        "idx_test = 21\n",
        "print(tensor_x.shape)\n",
        "print(tensor_y.shape)\n",
        "\n",
        "X_test = tensor_x[idx_test,:]\n",
        "y_test = tensor_y[idx_test,:]\n",
        "\n",
        "# X_test = tensor_x[idx_test,:].unsqueeze(0)\n",
        "# y_test = tensor_y[idx_test,:].unsqueeze(0)\n",
        "\n",
        "# print(X_test.shape)\n",
        "# print(y_test.shape)\n",
        "\n",
        "X_test = X_test.to(device)\n",
        "y_test_pred = net_dense(X_test)\n",
        "# print(y_test.shape)\n",
        "\n",
        "y_test_np = y_test.cpu().detach().numpy()\n",
        "y_test_pred_np = y_test_pred.cpu().detach().numpy()\n",
        "\n",
        "# plt.figure(1)\n",
        "# plt.plot(np.arange(1001), y_test_np)\n",
        "# plt.figure(2)\n",
        "# plt.plot(np.arange(1001), y_test_pred_np)\n",
        "\n",
        "plt.figure(3, figsize=(10,5))\n",
        "plt.scatter(np.arange(1001), y_test_np, c='r')\n",
        "plt.scatter(np.arange(1001), y_test_pred_np, c='b')"
      ],
      "execution_count": 348,
      "outputs": [
        {
          "output_type": "stream",
          "text": [
            "torch.Size([25, 1])\n",
            "torch.Size([25, 1001])\n"
          ],
          "name": "stdout"
        },
        {
          "output_type": "execute_result",
          "data": {
            "text/plain": [
              "<matplotlib.collections.PathCollection at 0x7ff3431b5cf8>"
            ]
          },
          "metadata": {
            "tags": []
          },
          "execution_count": 348
        },
        {
          "output_type": "display_data",
          "data": {
            "image/png": "[encoded data removed]",
            "text/plain": [
              "<Figure size 720x360 with 1 Axes>"
            ]
          },
          "metadata": {
            "tags": [],
            "needs_background": "light"
          }
        }
      ]
    },
    {
      "cell_type": "code",
      "metadata": {
        "id": "b-kmWhQVIOyZ"
      },
      "source": [
        ""
      ],
      "execution_count": 348,
      "outputs": []
    }
  ]
}