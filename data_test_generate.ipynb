{
  "nbformat": 4,
  "nbformat_minor": 0,
  "metadata": {
    "colab": {
      "name": "data_test_generate.ipynb",
      "provenance": [],
      "collapsed_sections": [],
      "toc_visible": true,
      "authorship_tag": "ABX9TyPWdko0ecsSzSv9S2MpNJJ1",
      "include_colab_link": true
    },
    "kernelspec": {
      "name": "python3",
      "display_name": "Python 3"
    }
  },
  "cells": [
    {
      "cell_type": "markdown",
      "metadata": {
        "id": "view-in-github",
        "colab_type": "text"
      },
      "source": [
        "<a href=\"https://colab.research.google.com/github/GuoyaoShen/DiatomDL/blob/main/data_test_generate.ipynb\" target=\"_parent\"><img src=\"https://colab.research.google.com/assets/colab-badge.svg\" alt=\"Open In Colab\"/></a>"
      ]
    },
    {
      "cell_type": "markdown",
      "metadata": {
        "id": "gYkQxSr3k_yj"
      },
      "source": [
        "# Mount Drive"
      ]
    },
    {
      "cell_type": "code",
      "metadata": {
        "id": "cNNIW7wzEVLE",
        "outputId": "65f897bd-6f49-41f8-d89a-e18d3db0ec5f",
        "colab": {
          "base_uri": "https://localhost:8080/"
        }
      },
      "source": [
        "from google.colab import drive\n",
        "drive.mount('/content/drive')"
      ],
      "execution_count": 1,
      "outputs": [
        {
          "output_type": "stream",
          "text": [
            "Mounted at /content/drive\n"
          ],
          "name": "stdout"
        }
      ]
    },
    {
      "cell_type": "markdown",
      "metadata": {
        "id": "Wia6saRHlIBB"
      },
      "source": [
        "# Data Loading"
      ]
    },
    {
      "cell_type": "code",
      "metadata": {
        "id": "X1Pp_Tmv7gDy"
      },
      "source": [
        "import numpy as np\n",
        "import pandas as pd\n",
        "import matplotlib.pyplot as plt\n",
        "\n",
        "import re\n",
        "\n",
        "import torch\n",
        "import torch.nn as nn\n",
        "from torch.utils.data import Dataset, DataLoader\n",
        "from torchvision import datasets, transforms"
      ],
      "execution_count": 2,
      "outputs": []
    },
    {
      "cell_type": "code",
      "metadata": {
        "id": "nMHvsLKDlKDc"
      },
      "source": [
        "path_reflection_dir = '/content/drive/My Drive/BU Class/Research/BioDL_Project/data/test/R_test_'\n",
        "path_transmission_dir = '/content/drive/My Drive/BU Class/Research/BioDL_Project/data/test/T_test_'"
      ],
      "execution_count": 3,
      "outputs": []
    },
    {
      "cell_type": "markdown",
      "metadata": {
        "id": "bPvwlQqu11QZ"
      },
      "source": [
        "## Reflection data"
      ]
    },
    {
      "cell_type": "code",
      "metadata": {
        "id": "wHFJZ_QC16p5",
        "outputId": "dfde6986-c235-417f-81e0-0867b7473887",
        "colab": {
          "base_uri": "https://localhost:8080/"
        }
      },
      "source": [
        "data_param_R = np.array([]).reshape(0,11)\n",
        "data_spectra_R = np.array([]).reshape(0,1001,2)\n",
        "\n",
        "NUM_FILE = 2\n",
        "\n",
        "for idx_file in range(NUM_FILE):\n",
        "    path_file = path_reflection_dir + str(idx_file+1) + '.txt'\n",
        "\n",
        "    # read file\n",
        "    print('========================================= FILE '+str(idx_file)+' =========================================')\n",
        "    num_combination = 0\n",
        "    with open(path_file) as f:\n",
        "        lines=f.readlines()\n",
        "\n",
        "        spectra_all = np.array([]).reshape(0,1001,2)  # shape for each spectra: [1001,2]\n",
        "        spectra = np.array([]).reshape(0,2)\n",
        "        param_all = np.array([]).reshape(0,11)\n",
        "\n",
        "        for i, line in enumerate(lines):\n",
        "            if (i%1004!=0) & (i%1004!=1) & (i%1004!=2): # read spectra data\n",
        "                line_array = np.fromstring(line, dtype=float, sep=' ')\n",
        "                spectra = np.vstack((spectra, line_array))\n",
        "\n",
        "            if i%1004==0:  # every (3+1001) lines, read param title\n",
        "                param = [float(s) for s in re.findall(r\"[-+]?\\d*\\.\\d+|\\d+\", line)]  # extract the float param\n",
        "                print(num_combination, param)\n",
        "                print('------------')\n",
        "                param_all = np.vstack((param_all, param))\n",
        "                num_combination += 1\n",
        "\n",
        "            if i%1004==1003:  # every end of the combination, concat\n",
        "                # print(num_combination)\n",
        "                spectra_all = np.concatenate((spectra_all, spectra[np.newaxis, ...]), axis=0)\n",
        "                spectra = np.array([]).reshape(0,2)\n",
        "\n",
        "    \n",
        "    # concat data\n",
        "    data_param_R = np.concatenate((data_param_R, param_all), axis=0)\n",
        "    data_spectra_R = np.concatenate((data_spectra_R, spectra_all), axis=0)"
      ],
      "execution_count": 4,
      "outputs": [
        {
          "output_type": "stream",
          "text": [
            "========================================= FILE 0 =========================================\n",
            "0 [0.5, 0.045, 0.0, 0.17, 0.0, 0.7794, 0.45, 0.1, 0.03, 0.02, 0.0]\n",
            "------------\n",
            "1 [0.5, 0.065, 0.0, 0.17, 0.0, 0.7794, 0.45, 0.1, 0.03, 0.02, 0.0]\n",
            "------------\n",
            "2 [0.5, 0.085, 0.0, 0.17, 0.0, 0.7794, 0.45, 0.1, 0.03, 0.02, 0.0]\n",
            "------------\n",
            "3 [0.5, 0.105, 0.0, 0.17, 0.0, 0.7794, 0.45, 0.1, 0.03, 0.02, 0.0]\n",
            "------------\n",
            "4 [0.5, 0.125, 0.0, 0.17, 0.0, 0.7794, 0.45, 0.1, 0.03, 0.02, 0.0]\n",
            "------------\n",
            "5 [0.5, 0.08, 0.0, 0.17, 0.0, 0.7794, 0.45, 0.1, 0.04, 0.02, 0.0]\n",
            "------------\n",
            "6 [0.5, 0.08, 0.0, 0.17, 0.0, 0.7794, 0.45, 0.1, 0.06, 0.02, 0.0]\n",
            "------------\n",
            "7 [0.5, 0.08, 0.0, 0.17, 0.0, 0.7794, 0.45, 0.1, 0.08, 0.02, 0.0]\n",
            "------------\n",
            "8 [0.5, 0.06, 0.0, 0.085, 0.0, 0.7794, 0.45, 0.1, 0.05, 0.02, 0.0]\n",
            "------------\n",
            "9 [0.5, 0.06, 0.0, 0.105, 0.0, 0.7794, 0.45, 0.1, 0.05, 0.02, 0.0]\n",
            "------------\n",
            "10 [0.5, 0.06, 0.0, 0.125, 0.0, 0.7794, 0.45, 0.1, 0.05, 0.02, 0.0]\n",
            "------------\n",
            "11 [0.5, 0.06, 0.0, 0.145, 0.0, 0.7794, 0.45, 0.1, 0.05, 0.02, 0.0]\n",
            "------------\n",
            "12 [0.5, 0.06, 0.0, 0.165, 0.0, 0.7794, 0.45, 0.1, 0.05, 0.02, 0.0]\n",
            "------------\n",
            "13 [0.5, 0.045, 0.0, 0.17, 0.0, 0.7794, 0.45, 0.1, 0.06, 0.02, 0.0]\n",
            "------------\n",
            "14 [0.5, 0.065, 0.0, 0.17, 0.0, 0.7794, 0.45, 0.1, 0.06, 0.02, 0.0]\n",
            "------------\n",
            "15 [0.5, 0.085, 0.0, 0.17, 0.0, 0.7794, 0.45, 0.1, 0.06, 0.02, 0.0]\n",
            "------------\n",
            "16 [0.5, 0.105, 0.0, 0.17, 0.0, 0.7794, 0.45, 0.1, 0.06, 0.02, 0.0]\n",
            "------------\n",
            "17 [0.5, 0.125, 0.0, 0.17, 0.0, 0.7794, 0.45, 0.1, 0.06, 0.02, 0.0]\n",
            "------------\n",
            "18 [0.5, 0.065, 0.0, 0.085, 0.0, 0.7794, 0.45, 0.1, 0.06, 0.02, 0.0]\n",
            "------------\n",
            "19 [0.5, 0.065, 0.0, 0.105, 0.0, 0.7794, 0.45, 0.1, 0.06, 0.02, 0.0]\n",
            "------------\n",
            "20 [0.5, 0.065, 0.0, 0.125, 0.0, 0.7794, 0.45, 0.1, 0.06, 0.02, 0.0]\n",
            "------------\n",
            "21 [0.5, 0.065, 0.0, 0.145, 0.0, 0.7794, 0.45, 0.1, 0.06, 0.02, 0.0]\n",
            "------------\n",
            "22 [0.5, 0.065, 0.0, 0.165, 0.0, 0.7794, 0.45, 0.1, 0.06, 0.02, 0.0]\n",
            "------------\n",
            "23 [0.5, 0.07, 0.0, 0.115, 0.0, 0.7794, 0.45, 0.1, 0.04, 0.02, 0.0]\n",
            "------------\n",
            "24 [0.5, 0.07, 0.0, 0.115, 0.0, 0.7794, 0.45, 0.1, 0.06, 0.02, 0.0]\n",
            "------------\n",
            "========================================= FILE 1 =========================================\n",
            "0 [0.5, 0.07, 0.0, 0.115, 0.0, 0.7794, 0.45, 0.1, 0.08, 0.02, 0.0]\n",
            "------------\n",
            "1 [0.5, 0.075, 0.0, 0.135, 0.0, 0.7794, 0.45, 0.1, 0.08, 0.02, 0.0]\n",
            "------------\n",
            "2 [0.5, 0.01, 0.0, 0.17, 0.0, 0.7794, 0.45, 0.1, 0.03, 0.02, 0.0]\n",
            "------------\n",
            "3 [0.5, 0.02, 0.0, 0.17, 0.0, 0.7794, 0.45, 0.1, 0.03, 0.02, 0.0]\n",
            "------------\n",
            "4 [0.5, 0.03, 0.0, 0.17, 0.0, 0.7794, 0.45, 0.1, 0.03, 0.02, 0.0]\n",
            "------------\n",
            "5 [0.5, 0.08, 0.0, 0.17, 0.0, 0.7794, 0.45, 0.1, 0.01, 0.02, 0.0]\n",
            "------------\n",
            "6 [0.5, 0.08, 0.0, 0.17, 0.0, 0.7794, 0.45, 0.1, 0.1, 0.02, 0.0]\n",
            "------------\n",
            "7 [0.5, 0.06, 0.0, 0.065, 0.0, 0.7794, 0.45, 0.1, 0.05, 0.02, 0.0]\n",
            "------------\n",
            "8 [0.5, 0.06, 0.0, 0.07, 0.0, 0.7794, 0.45, 0.1, 0.05, 0.02, 0.0]\n",
            "------------\n",
            "9 [0.5, 0.01, 0.0, 0.17, 0.0, 0.7794, 0.45, 0.1, 0.02, 0.02, 0.0]\n",
            "------------\n",
            "10 [0.5, 0.03, 0.0, 0.17, 0.0, 0.7794, 0.45, 0.1, 0.02, 0.02, 0.0]\n",
            "------------\n",
            "11 [0.5, 0.02, 0.0, 0.065, 0.0, 0.7794, 0.45, 0.1, 0.06, 0.02, 0.0]\n",
            "------------\n",
            "12 [0.5, 0.02, 0.0, 0.07, 0.0, 0.7794, 0.45, 0.1, 0.06, 0.02, 0.0]\n",
            "------------\n",
            "13 [0.5, 0.06, 0.0, 0.065, 0.0, 0.7794, 0.45, 0.1, 0.02, 0.02, 0.0]\n",
            "------------\n",
            "14 [0.5, 0.03, 0.0, 0.065, 0.0, 0.7794, 0.45, 0.1, 0.01, 0.02, 0.0]\n",
            "------------\n"
          ],
          "name": "stdout"
        }
      ]
    },
    {
      "cell_type": "code",
      "metadata": {
        "id": "8iVHmWJe6wbs",
        "outputId": "4b9cea0c-0446-452a-ee6e-848ec9f6c42e",
        "colab": {
          "base_uri": "https://localhost:8080/"
        }
      },
      "source": [
        "print(data_param_R.shape)\n",
        "print(data_spectra_R.shape)"
      ],
      "execution_count": 5,
      "outputs": [
        {
          "output_type": "stream",
          "text": [
            "(40, 11)\n",
            "(40, 1001, 2)\n"
          ],
          "name": "stdout"
        }
      ]
    },
    {
      "cell_type": "markdown",
      "metadata": {
        "id": "9Ny3Palf7QFl"
      },
      "source": [
        "## Transmission data"
      ]
    },
    {
      "cell_type": "code",
      "metadata": {
        "id": "EMVbE1dY7QFn",
        "outputId": "b026f145-3a47-491b-feea-621992646708",
        "colab": {
          "base_uri": "https://localhost:8080/"
        }
      },
      "source": [
        "data_param_T = np.array([]).reshape(0,11)\n",
        "data_spectra_T = np.array([]).reshape(0,1001,2)\n",
        "\n",
        "for idx_file in range(NUM_FILE):\n",
        "    path_file = path_transmission_dir + str(idx_file+1) + '.txt'\n",
        "\n",
        "    # read file\n",
        "    print('========================================= FILE '+str(idx_file)+' =========================================')\n",
        "    num_combination = 0\n",
        "    with open(path_file) as f:\n",
        "        lines=f.readlines()\n",
        "\n",
        "        spectra_all = np.array([]).reshape(0,1001,2)  # shape for each spectra: [1001,2]\n",
        "        spectra = np.array([]).reshape(0,2)\n",
        "        param_all = np.array([]).reshape(0,11)\n",
        "\n",
        "        for i, line in enumerate(lines):\n",
        "            if (i%1004!=0) & (i%1004!=1) & (i%1004!=2): # read spectra data\n",
        "                line_array = np.fromstring(line, dtype=float, sep=' ')\n",
        "                spectra = np.vstack((spectra, line_array))\n",
        "\n",
        "            if i%1004==0:  # every (3+1001) lines, read param title\n",
        "                param = [float(s) for s in re.findall(r\"[-+]?\\d*\\.\\d+|\\d+\", line)]  # extract the float param\n",
        "                print(num_combination, param)\n",
        "                print('------------')\n",
        "                param_all = np.vstack((param_all, param))\n",
        "                num_combination += 1\n",
        "\n",
        "            if i%1004==1003:  # every end of the combination, concat\n",
        "                # print(num_combination)\n",
        "                spectra_all = np.concatenate((spectra_all, spectra[np.newaxis, ...]), axis=0)\n",
        "                spectra = np.array([]).reshape(0,2)\n",
        "\n",
        "    \n",
        "    # concat data\n",
        "    data_param_T = np.concatenate((data_param_T, param_all), axis=0)\n",
        "    data_spectra_T = np.concatenate((data_spectra_T, spectra_all), axis=0)"
      ],
      "execution_count": 6,
      "outputs": [
        {
          "output_type": "stream",
          "text": [
            "========================================= FILE 0 =========================================\n",
            "0 [0.5, 0.045, 0.0, 0.17, 0.0, 0.7794, 0.45, 0.1, 0.03, 0.02, 0.0]\n",
            "------------\n",
            "1 [0.5, 0.065, 0.0, 0.17, 0.0, 0.7794, 0.45, 0.1, 0.03, 0.02, 0.0]\n",
            "------------\n",
            "2 [0.5, 0.085, 0.0, 0.17, 0.0, 0.7794, 0.45, 0.1, 0.03, 0.02, 0.0]\n",
            "------------\n",
            "3 [0.5, 0.105, 0.0, 0.17, 0.0, 0.7794, 0.45, 0.1, 0.03, 0.02, 0.0]\n",
            "------------\n",
            "4 [0.5, 0.125, 0.0, 0.17, 0.0, 0.7794, 0.45, 0.1, 0.03, 0.02, 0.0]\n",
            "------------\n",
            "5 [0.5, 0.08, 0.0, 0.17, 0.0, 0.7794, 0.45, 0.1, 0.04, 0.02, 0.0]\n",
            "------------\n",
            "6 [0.5, 0.08, 0.0, 0.17, 0.0, 0.7794, 0.45, 0.1, 0.06, 0.02, 0.0]\n",
            "------------\n",
            "7 [0.5, 0.08, 0.0, 0.17, 0.0, 0.7794, 0.45, 0.1, 0.08, 0.02, 0.0]\n",
            "------------\n",
            "8 [0.5, 0.06, 0.0, 0.085, 0.0, 0.7794, 0.45, 0.1, 0.05, 0.02, 0.0]\n",
            "------------\n",
            "9 [0.5, 0.06, 0.0, 0.105, 0.0, 0.7794, 0.45, 0.1, 0.05, 0.02, 0.0]\n",
            "------------\n",
            "10 [0.5, 0.06, 0.0, 0.125, 0.0, 0.7794, 0.45, 0.1, 0.05, 0.02, 0.0]\n",
            "------------\n",
            "11 [0.5, 0.06, 0.0, 0.145, 0.0, 0.7794, 0.45, 0.1, 0.05, 0.02, 0.0]\n",
            "------------\n",
            "12 [0.5, 0.06, 0.0, 0.165, 0.0, 0.7794, 0.45, 0.1, 0.05, 0.02, 0.0]\n",
            "------------\n",
            "13 [0.5, 0.045, 0.0, 0.17, 0.0, 0.7794, 0.45, 0.1, 0.06, 0.02, 0.0]\n",
            "------------\n",
            "14 [0.5, 0.065, 0.0, 0.17, 0.0, 0.7794, 0.45, 0.1, 0.06, 0.02, 0.0]\n",
            "------------\n",
            "15 [0.5, 0.085, 0.0, 0.17, 0.0, 0.7794, 0.45, 0.1, 0.06, 0.02, 0.0]\n",
            "------------\n",
            "16 [0.5, 0.105, 0.0, 0.17, 0.0, 0.7794, 0.45, 0.1, 0.06, 0.02, 0.0]\n",
            "------------\n",
            "17 [0.5, 0.125, 0.0, 0.17, 0.0, 0.7794, 0.45, 0.1, 0.06, 0.02, 0.0]\n",
            "------------\n",
            "18 [0.5, 0.065, 0.0, 0.085, 0.0, 0.7794, 0.45, 0.1, 0.06, 0.02, 0.0]\n",
            "------------\n",
            "19 [0.5, 0.065, 0.0, 0.105, 0.0, 0.7794, 0.45, 0.1, 0.06, 0.02, 0.0]\n",
            "------------\n",
            "20 [0.5, 0.065, 0.0, 0.125, 0.0, 0.7794, 0.45, 0.1, 0.06, 0.02, 0.0]\n",
            "------------\n",
            "21 [0.5, 0.065, 0.0, 0.145, 0.0, 0.7794, 0.45, 0.1, 0.06, 0.02, 0.0]\n",
            "------------\n",
            "22 [0.5, 0.065, 0.0, 0.165, 0.0, 0.7794, 0.45, 0.1, 0.06, 0.02, 0.0]\n",
            "------------\n",
            "23 [0.5, 0.07, 0.0, 0.115, 0.0, 0.7794, 0.45, 0.1, 0.04, 0.02, 0.0]\n",
            "------------\n",
            "24 [0.5, 0.07, 0.0, 0.115, 0.0, 0.7794, 0.45, 0.1, 0.06, 0.02, 0.0]\n",
            "------------\n",
            "========================================= FILE 1 =========================================\n",
            "0 [0.5, 0.07, 0.0, 0.115, 0.0, 0.7794, 0.45, 0.1, 0.08, 0.02, 0.0]\n",
            "------------\n",
            "1 [0.5, 0.075, 0.0, 0.135, 0.0, 0.7794, 0.45, 0.1, 0.08, 0.02, 0.0]\n",
            "------------\n",
            "2 [0.5, 0.01, 0.0, 0.17, 0.0, 0.7794, 0.45, 0.1, 0.03, 0.02, 0.0]\n",
            "------------\n",
            "3 [0.5, 0.02, 0.0, 0.17, 0.0, 0.7794, 0.45, 0.1, 0.03, 0.02, 0.0]\n",
            "------------\n",
            "4 [0.5, 0.03, 0.0, 0.17, 0.0, 0.7794, 0.45, 0.1, 0.03, 0.02, 0.0]\n",
            "------------\n",
            "5 [0.5, 0.08, 0.0, 0.17, 0.0, 0.7794, 0.45, 0.1, 0.01, 0.02, 0.0]\n",
            "------------\n",
            "6 [0.5, 0.08, 0.0, 0.17, 0.0, 0.7794, 0.45, 0.1, 0.1, 0.02, 0.0]\n",
            "------------\n",
            "7 [0.5, 0.06, 0.0, 0.065, 0.0, 0.7794, 0.45, 0.1, 0.05, 0.02, 0.0]\n",
            "------------\n",
            "8 [0.5, 0.06, 0.0, 0.07, 0.0, 0.7794, 0.45, 0.1, 0.05, 0.02, 0.0]\n",
            "------------\n",
            "9 [0.5, 0.01, 0.0, 0.17, 0.0, 0.7794, 0.45, 0.1, 0.02, 0.02, 0.0]\n",
            "------------\n",
            "10 [0.5, 0.03, 0.0, 0.17, 0.0, 0.7794, 0.45, 0.1, 0.02, 0.02, 0.0]\n",
            "------------\n",
            "11 [0.5, 0.02, 0.0, 0.065, 0.0, 0.7794, 0.45, 0.1, 0.06, 0.02, 0.0]\n",
            "------------\n",
            "12 [0.5, 0.02, 0.0, 0.07, 0.0, 0.7794, 0.45, 0.1, 0.06, 0.02, 0.0]\n",
            "------------\n",
            "13 [0.5, 0.06, 0.0, 0.065, 0.0, 0.7794, 0.45, 0.1, 0.02, 0.02, 0.0]\n",
            "------------\n",
            "14 [0.5, 0.03, 0.0, 0.065, 0.0, 0.7794, 0.45, 0.1, 0.01, 0.02, 0.0]\n",
            "------------\n"
          ],
          "name": "stdout"
        }
      ]
    },
    {
      "cell_type": "code",
      "metadata": {
        "id": "vU-rnVVv7QFq",
        "outputId": "5539423d-b832-4db0-f10e-a2d21a58f47d",
        "colab": {
          "base_uri": "https://localhost:8080/"
        }
      },
      "source": [
        "print(data_param_T.shape)\n",
        "print(data_spectra_T.shape)"
      ],
      "execution_count": 7,
      "outputs": [
        {
          "output_type": "stream",
          "text": [
            "(40, 11)\n",
            "(40, 1001, 2)\n"
          ],
          "name": "stdout"
        }
      ]
    },
    {
      "cell_type": "code",
      "metadata": {
        "id": "k8TH8xve70GV",
        "outputId": "75f9a709-6199-422a-a8dd-d381ddc5c676",
        "colab": {
          "base_uri": "https://localhost:8080/"
        }
      },
      "source": [
        "# double check param array\n",
        "\n",
        "print(np.any([[True, False], [False, False]]))\n",
        "print(np.any([[False, False], [False, False]]))\n",
        "\n",
        "print(np.any(data_param_T - data_param_R))  # if False, then no problem"
      ],
      "execution_count": 8,
      "outputs": [
        {
          "output_type": "stream",
          "text": [
            "True\n",
            "False\n",
            "False\n"
          ],
          "name": "stdout"
        }
      ]
    },
    {
      "cell_type": "markdown",
      "metadata": {
        "id": "6c9tjjck86vV"
      },
      "source": [
        "# Save Data"
      ]
    },
    {
      "cell_type": "code",
      "metadata": {
        "id": "intNqDNV72k7",
        "outputId": "8a4874ef-9a5a-4e0e-81d5-a4daa42af580",
        "colab": {
          "base_uri": "https://localhost:8080/"
        }
      },
      "source": [
        "path_dataset = '/content/drive/My Drive/BU Class/Research/BioDL_Project/data/diatom_test.npz'\n",
        "\n",
        "np.savez(path_dataset, param=data_param_T, R=data_spectra_R, T=data_spectra_T)\n",
        "\n",
        "print('DATASET SAVED')"
      ],
      "execution_count": 9,
      "outputs": [
        {
          "output_type": "stream",
          "text": [
            "DATASET SAVED\n"
          ],
          "name": "stdout"
        }
      ]
    },
    {
      "cell_type": "code",
      "metadata": {
        "id": "0XS96pZ--eCf",
        "outputId": "907bc8e3-03bb-4fae-acee-7bf72aa58b69",
        "colab": {
          "base_uri": "https://localhost:8080/"
        }
      },
      "source": [
        "data = np.load(path_dataset)\n",
        "print(data['param'].shape)\n",
        "print(data['R'].shape)\n",
        "print(data['T'].shape)\n",
        "print(data['R'][0])\n",
        "print(data['T'][0])"
      ],
      "execution_count": 10,
      "outputs": [
        {
          "output_type": "stream",
          "text": [
            "(40, 11)\n",
            "(40, 1001, 2)\n",
            "(40, 1001, 2)\n",
            "[[3.75000000e+02 9.37455053e-01]\n",
            " [3.75375000e+02 9.37100640e-01]\n",
            " [3.75750000e+02 9.36758047e-01]\n",
            " ...\n",
            " [7.49250000e+02 5.95433509e-01]\n",
            " [7.49625000e+02 5.95126848e-01]\n",
            " [7.50000000e+02 5.94815899e-01]]\n",
            "[[3.75000000e+02 1.66021003e-02]\n",
            " [3.75375000e+02 1.66557353e-02]\n",
            " [3.75750000e+02 1.67094246e-02]\n",
            " ...\n",
            " [7.49250000e+02 2.76434442e-03]\n",
            " [7.49625000e+02 2.75925226e-03]\n",
            " [7.50000000e+02 2.75421146e-03]]\n"
          ],
          "name": "stdout"
        }
      ]
    },
    {
      "cell_type": "code",
      "metadata": {
        "id": "9GkTCS7U7A5z"
      },
      "source": [
        ""
      ],
      "execution_count": null,
      "outputs": []
    }
  ]
}