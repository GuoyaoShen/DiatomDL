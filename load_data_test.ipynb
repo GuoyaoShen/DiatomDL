{
  "nbformat": 4,
  "nbformat_minor": 0,
  "metadata": {
    "colab": {
      "name": "load_data_test.ipynb",
      "provenance": [],
      "collapsed_sections": [],
      "toc_visible": true,
      "authorship_tag": "ABX9TyM5AMvah1KInO15jL1JuBLP",
      "include_colab_link": true
    },
    "kernelspec": {
      "name": "python3",
      "display_name": "Python 3"
    }
  },
  "cells": [
    {
      "cell_type": "markdown",
      "metadata": {
        "id": "view-in-github",
        "colab_type": "text"
      },
      "source": [
        "<a href=\"https://colab.research.google.com/github/GuoyaoShen/DiatomDL/blob/main/load_data_test.ipynb\" target=\"_parent\"><img src=\"https://colab.research.google.com/assets/colab-badge.svg\" alt=\"Open In Colab\"/></a>"
      ]
    },
    {
      "cell_type": "markdown",
      "metadata": {
        "id": "gYkQxSr3k_yj"
      },
      "source": [
        "# Mount Drive"
      ]
    },
    {
      "cell_type": "code",
      "metadata": {
        "id": "cNNIW7wzEVLE",
        "outputId": "f683dd66-1707-4deb-fc74-05abb92d91e6",
        "colab": {
          "base_uri": "https://localhost:8080/",
          "height": 35
        }
      },
      "source": [
        "from google.colab import drive\n",
        "drive.mount('/content/drive')"
      ],
      "execution_count": null,
      "outputs": [
        {
          "output_type": "stream",
          "text": [
            "Mounted at /content/drive\n"
          ],
          "name": "stdout"
        }
      ]
    },
    {
      "cell_type": "markdown",
      "metadata": {
        "id": "Wia6saRHlIBB"
      },
      "source": [
        "# Data Loading\n",
        "* might need stacking data in future"
      ]
    },
    {
      "cell_type": "code",
      "metadata": {
        "id": "X1Pp_Tmv7gDy"
      },
      "source": [
        "import numpy as np\n",
        "import pandas as pd\n",
        "import matplotlib.pyplot as plt\n",
        "\n",
        "import torch\n",
        "import torch.nn as nn\n",
        "from torch.utils.data import Dataset, DataLoader\n",
        "from torchvision import datasets, transforms"
      ],
      "execution_count": null,
      "outputs": []
    },
    {
      "cell_type": "code",
      "metadata": {
        "id": "nMHvsLKDlKDc"
      },
      "source": [
        "path_reflection = '/content/drive/My Drive/BU Class/Research/BioDL_Project/data/test1.txt'\n",
        "# path_reflection = '/content/drive/My Drive/BU Class/Research/BioDL_Project/data/Diatom_vis_1_reflection.txt'\n",
        "\n",
        "# data_reflection = np.loadtxt(path_reflection, skiprows=2)\n",
        "data_reflection = np.loadtxt(path_reflection)"
      ],
      "execution_count": null,
      "outputs": []
    },
    {
      "cell_type": "code",
      "metadata": {
        "id": "P-j5_QK68HEX",
        "outputId": "e525b375-cc36-439c-e7ec-aa221bdbac59",
        "colab": {
          "base_uri": "https://localhost:8080/",
          "height": 179
        }
      },
      "source": [
        "print(data_reflection.shape)\n",
        "print(data_reflection)\n",
        "print(data_reflection[:,0])"
      ],
      "execution_count": null,
      "outputs": [
        {
          "output_type": "stream",
          "text": [
            "(25025, 2)\n",
            "[[3.75000000e+02 9.40925333e-01]\n",
            " [3.75375000e+02 9.40649210e-01]\n",
            " [3.75750000e+02 9.40379784e-01]\n",
            " ...\n",
            " [7.49250000e+02 1.36811020e-01]\n",
            " [7.49625000e+02 1.36820749e-01]\n",
            " [7.50000000e+02 1.36830704e-01]]\n",
            "[375.    375.375 375.75  ... 749.25  749.625 750.   ]\n"
          ],
          "name": "stdout"
        }
      ]
    },
    {
      "cell_type": "code",
      "metadata": {
        "id": "2TM3ErRvg61R",
        "outputId": "8bc5686f-7674-4dfd-9bc4-564ca3694645",
        "colab": {
          "base_uri": "https://localhost:8080/",
          "height": 53
        }
      },
      "source": [
        "# test\n",
        "import numpy as np\n",
        "# a = np.NaN\n",
        "a = np.array([]).reshape(0,3)\n",
        "b = np.array([1,2,3])\n",
        "c = np.array([1,2,7])\n",
        "d = np.vstack((a,b,c))\n",
        "\n",
        "print(d)"
      ],
      "execution_count": null,
      "outputs": [
        {
          "output_type": "stream",
          "text": [
            "[[1. 2. 3.]\n",
            " [1. 2. 7.]]\n"
          ],
          "name": "stdout"
        }
      ]
    },
    {
      "cell_type": "code",
      "metadata": {
        "id": "7nza6bUHWRiY",
        "outputId": "3b4aff31-0977-457d-dc4b-dec2ea6c51bf",
        "colab": {
          "base_uri": "https://localhost:8080/",
          "height": 1000
        }
      },
      "source": [
        "# CORE PART OF READING DATA\n",
        "\n",
        "import numpy as np\n",
        "\n",
        "\n",
        "\n",
        "num_combination = 0\n",
        "with open(path_reflection) as f:\n",
        "    lines=f.readlines()\n",
        "\n",
        "    spectra_ref_all = np.array([]).reshape(0,1001,2)  # shape for each spectra: [1001,2]\n",
        "    spectra_ref = np.array([]).reshape(0,2)\n",
        "    param_all = np.array([]).reshape(0,11)\n",
        "\n",
        "    for i, line in enumerate(lines):\n",
        "        if (i%1004!=0) & (i%1004!=1) & (i%1004!=2): # read spectra data\n",
        "            line_array = np.fromstring(line, dtype=float, sep=' ')\n",
        "            # print(i)\n",
        "            # print(spectra_ref.shape)\n",
        "            # print(line_array)\n",
        "            # print(line_array.shape)\n",
        "            # print('=====')\n",
        "            spectra_ref = np.vstack((spectra_ref, line_array))\n",
        "\n",
        "        if i%1004==0:  # every (3+1001) lines, read param title\n",
        "            # print(num_combination, i, line.strip())\n",
        "            param = [float(s) for s in re.findall(r\"[-+]?\\d*\\.\\d+|\\d+\", line)]  # extract the float param\n",
        "            print(num_combination, param)\n",
        "            print('------------')\n",
        "            param_all = np.vstack((param_all, param))\n",
        "            num_combination += 1\n",
        "\n",
        "        if i%1004==1003:  # every end of the combination, concat\n",
        "            print(num_combination)\n",
        "            spectra_ref_all = np.concatenate((spectra_ref_all, spectra_ref[np.newaxis, ...]), axis=0)\n",
        "            spectra_ref = np.array([]).reshape(0,2)"
      ],
      "execution_count": null,
      "outputs": [
        {
          "output_type": "stream",
          "text": [
            "0 [0.5, 0.04, 0.0, 0.17, 0.0, 0.7794, 0.45, 0.1, 0.03, 0.02, 0.0]\n",
            "------------\n",
            "1\n",
            "1 [0.5, 0.05, 0.0, 0.17, 0.0, 0.7794, 0.45, 0.1, 0.03, 0.02, 0.0]\n",
            "------------\n",
            "2\n",
            "2 [0.5, 0.06, 0.0, 0.17, 0.0, 0.7794, 0.45, 0.1, 0.03, 0.02, 0.0]\n",
            "------------\n",
            "3\n",
            "3 [0.5, 0.07, 0.0, 0.17, 0.0, 0.7794, 0.45, 0.1, 0.03, 0.02, 0.0]\n",
            "------------\n",
            "4\n",
            "4 [0.5, 0.08, 0.0, 0.17, 0.0, 0.7794, 0.45, 0.1, 0.03, 0.02, 0.0]\n",
            "------------\n",
            "5\n",
            "5 [0.5, 0.09, 0.0, 0.17, 0.0, 0.7794, 0.45, 0.1, 0.03, 0.02, 0.0]\n",
            "------------\n",
            "6\n",
            "6 [0.5, 0.1, 0.0, 0.17, 0.0, 0.7794, 0.45, 0.1, 0.03, 0.02, 0.0]\n",
            "------------\n",
            "7\n",
            "7 [0.5, 0.11, 0.0, 0.17, 0.0, 0.7794, 0.45, 0.1, 0.03, 0.02, 0.0]\n",
            "------------\n",
            "8\n",
            "8 [0.5, 0.12, 0.0, 0.17, 0.0, 0.7794, 0.45, 0.1, 0.03, 0.02, 0.0]\n",
            "------------\n",
            "9\n",
            "9 [0.5, 0.13, 0.0, 0.17, 0.0, 0.7794, 0.45, 0.1, 0.03, 0.02, 0.0]\n",
            "------------\n",
            "10\n",
            "10 [0.5, 0.04, 0.0, 0.16, 0.0, 0.7794, 0.45, 0.1, 0.03, 0.02, 0.0]\n",
            "------------\n",
            "11\n",
            "11 [0.5, 0.05, 0.0, 0.16, 0.0, 0.7794, 0.45, 0.1, 0.03, 0.02, 0.0]\n",
            "------------\n",
            "12\n",
            "12 [0.5, 0.06, 0.0, 0.16, 0.0, 0.7794, 0.45, 0.1, 0.03, 0.02, 0.0]\n",
            "------------\n",
            "13\n",
            "13 [0.5, 0.07, 0.0, 0.16, 0.0, 0.7794, 0.45, 0.1, 0.03, 0.02, 0.0]\n",
            "------------\n",
            "14\n",
            "14 [0.5, 0.08, 0.0, 0.16, 0.0, 0.7794, 0.45, 0.1, 0.03, 0.02, 0.0]\n",
            "------------\n",
            "15\n",
            "15 [0.5, 0.09, 0.0, 0.16, 0.0, 0.7794, 0.45, 0.1, 0.03, 0.02, 0.0]\n",
            "------------\n",
            "16\n",
            "16 [0.5, 0.1, 0.0, 0.16, 0.0, 0.7794, 0.45, 0.1, 0.03, 0.02, 0.0]\n",
            "------------\n",
            "17\n",
            "17 [0.5, 0.11, 0.0, 0.16, 0.0, 0.7794, 0.45, 0.1, 0.03, 0.02, 0.0]\n",
            "------------\n",
            "18\n",
            "18 [0.5, 0.12, 0.0, 0.16, 0.0, 0.7794, 0.45, 0.1, 0.03, 0.02, 0.0]\n",
            "------------\n",
            "19\n",
            "19 [0.5, 0.04, 0.0, 0.15, 0.0, 0.7794, 0.45, 0.1, 0.03, 0.02, 0.0]\n",
            "------------\n",
            "20\n",
            "20 [0.5, 0.05, 0.0, 0.15, 0.0, 0.7794, 0.45, 0.1, 0.03, 0.02, 0.0]\n",
            "------------\n",
            "21\n",
            "21 [0.5, 0.06, 0.0, 0.15, 0.0, 0.7794, 0.45, 0.1, 0.03, 0.02, 0.0]\n",
            "------------\n",
            "22\n",
            "22 [0.5, 0.07, 0.0, 0.15, 0.0, 0.7794, 0.45, 0.1, 0.03, 0.02, 0.0]\n",
            "------------\n",
            "23\n",
            "23 [0.5, 0.08, 0.0, 0.15, 0.0, 0.7794, 0.45, 0.1, 0.03, 0.02, 0.0]\n",
            "------------\n",
            "24\n",
            "24 [0.5, 0.09, 0.0, 0.15, 0.0, 0.7794, 0.45, 0.1, 0.03, 0.02, 0.0]\n",
            "------------\n",
            "25\n"
          ],
          "name": "stdout"
        }
      ]
    },
    {
      "cell_type": "code",
      "metadata": {
        "id": "dOGTIq_jnwHz",
        "outputId": "f9515115-6602-422e-c881-219116a7823b",
        "colab": {
          "base_uri": "https://localhost:8080/",
          "height": 53
        }
      },
      "source": [
        "print(spectra_ref_all.shape)\n",
        "print(param_all.shape)"
      ],
      "execution_count": null,
      "outputs": [
        {
          "output_type": "stream",
          "text": [
            "(25, 1001, 2)\n",
            "(25, 11)\n"
          ],
          "name": "stdout"
        }
      ]
    },
    {
      "cell_type": "code",
      "metadata": {
        "id": "GpG1k1PdXaA0",
        "outputId": "ca16294d-15e7-471c-87fa-db8e6f7cd4f1",
        "colab": {
          "base_uri": "https://localhost:8080/",
          "height": 35
        }
      },
      "source": [
        "import re \n",
        "\n",
        "test_string = '#Parameters = {add_spa=0.5; d=0.09; fillet=0; p=0.15; phi=0; px=0.7794; py=0.45; t_ground=0.1; t_pattern=0.03; t_spacer=0.02; theta=0}'\n",
        "# test_string = \"There are 2 apples for 4 persons\"\n",
        "\n",
        "# res = [int(i) for i in test_string.split('=') if i.isdigit()]\n",
        "# print(res)\n",
        "\n",
        "\n",
        "\n",
        "# temp = re.findall(\"\\d+\\.\\d+\", test_string)\n",
        "# res = list(map(float, temp))\n",
        "# print(temp)\n",
        "\n",
        "param = [float(s) for s in re.findall(r\"[-+]?\\d*\\.\\d+|\\d+\", test_string)]\n",
        "print(param)"
      ],
      "execution_count": null,
      "outputs": [
        {
          "output_type": "stream",
          "text": [
            "[0.5, 0.09, 0.0, 0.15, 0.0, 0.7794, 0.45, 0.1, 0.03, 0.02, 0.0]\n"
          ],
          "name": "stdout"
        }
      ]
    },
    {
      "cell_type": "code",
      "metadata": {
        "id": "KL1VyktHbPS6"
      },
      "source": [
        ""
      ],
      "execution_count": null,
      "outputs": []
    }
  ]
}