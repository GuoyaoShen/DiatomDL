{
  "nbformat": 4,
  "nbformat_minor": 0,
  "metadata": {
    "colab": {
      "name": "data_generate_prarmDict.ipynb",
      "provenance": [],
      "authorship_tag": "ABX9TyOOizGktAeCbvFv2wGC9rRc",
      "include_colab_link": true
    },
    "kernelspec": {
      "name": "python3",
      "display_name": "Python 3"
    }
  },
  "cells": [
    {
      "cell_type": "markdown",
      "metadata": {
        "id": "view-in-github",
        "colab_type": "text"
      },
      "source": [
        "<a href=\"https://colab.research.google.com/github/GuoyaoShen/DiatomDL/blob/main/data_generate_prarmDict.ipynb\" target=\"_parent\"><img src=\"https://colab.research.google.com/assets/colab-badge.svg\" alt=\"Open In Colab\"/></a>"
      ]
    },
    {
      "cell_type": "markdown",
      "metadata": {
        "id": "cbueESSSbLgE"
      },
      "source": [
        "### This script generates a file of parameter combinations related with index"
      ]
    },
    {
      "cell_type": "code",
      "metadata": {
        "id": "LtoRcanKcyw0"
      },
      "source": [
        "import numpy as np\n",
        "import pandas as pd\n",
        "import matplotlib.pyplot as plt"
      ],
      "execution_count": 1,
      "outputs": []
    },
    {
      "cell_type": "code",
      "metadata": {
        "id": "_KLWhgnPc0tI"
      },
      "source": [
        "# a = np.array([1,2,3])\n",
        "# b = np.array([7,7,3])\n",
        "# c = np.empty(3)\n",
        "# print(c)\n",
        "# print(np.vstack((c,b)))"
      ],
      "execution_count": 11,
      "outputs": []
    },
    {
      "cell_type": "code",
      "metadata": {
        "id": "gPmYgCQVbD9V"
      },
      "source": [
        "# number of total choices\n",
        "NUM_PX = pass\n",
        "NUM_PY = pass\n",
        "NUM_D = pass\n",
        "NUM_P = pass\n",
        "NUM_T_TOP = pass\n",
        "NUM_T_SPACER = pass\n",
        "NUM_T_BOTTOM = pass\n",
        "\n",
        "# down limit\n",
        "DOWN_PX = pass\n",
        "DOWN_PY = pass\n",
        "DOWN_D = pass\n",
        "DOWN_P = pass\n",
        "DOWN_T_TOP = pass\n",
        "DOWN_T_SPACER = pass\n",
        "DOWN_T_BOTTOM = pass\n",
        "\n",
        "# up limit\n",
        "UP_PX = pass\n",
        "UP_PY = pass\n",
        "UP_D = pass\n",
        "UP_P = pass\n",
        "UP_T_TOP = pass\n",
        "UP_T_SPACER = pass\n",
        "UP_T_BOTTOM = pass\n",
        "\n",
        "# resolution\n",
        "RES_PX = pass\n",
        "RES_PY = pass\n",
        "RES_D = pass\n",
        "RES_P = pass\n",
        "RES_T_TOP = pass\n",
        "RES_T_SPACER = pass\n",
        "RES_T_BOTTOM = pass\n",
        "\n",
        "\n",
        "idx = 0\n",
        "for idx_Px in range(NUM_PX):\n",
        "    for idx_Py in range(NUM_PY):\n",
        "        for idx_d in range(NUM_D):\n",
        "            for idx_p in range(NUM_P):\n",
        "                for idx_t_top in range(NUM_T_TOP):\n",
        "                    for idx_t_spacer in range(NUM_T_SPACER):\n",
        "                        for idx_t_bottom in range(NUM_T_BOTTOM):\n",
        "                            Px = DOWN_PX + idx_Px*RES_PX\n",
        "                            Py = DOWN_PY + idx_Py*RES_PY\n",
        "                            d = DOWN_D + idx_d*RES_D\n",
        "                            p = DOWN_P + idx_p*RES_P\n",
        "                            t_top = DOWN_T_TOP + idx_t_top*RES_T_TOP\n",
        "                            t_spacer = DOWN_T_SPACER + idx_t_spacer*RES_T_SPACER\n",
        "                            t_bottom = DOWN_T_BOTTOM + idx_t_bottom*RES_T_BOTTOM\n",
        "                            ele_added = np.array([idx, Px, Py, d, p, t_top, t_spacer, t_bottom])\n",
        "                            if idx==0:\n",
        "                                data_dict = ele_added\n",
        "                            else:\n",
        "                                data_dict = np.vstack((data_dict, ele_added))\n",
        "                            print('INDEX:', idx, '|| DATA ADDED:', ele_added)\n",
        "                            idx+=1\n",
        "\n",
        "                            # save as a file\n",
        "                            pass\n"
      ],
      "execution_count": null,
      "outputs": []
    },
    {
      "cell_type": "code",
      "metadata": {
        "id": "_EJdmacFdMYj"
      },
      "source": [
        ""
      ],
      "execution_count": null,
      "outputs": []
    }
  ]
}